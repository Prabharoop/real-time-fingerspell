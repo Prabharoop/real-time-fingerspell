{
 "cells": [
  {
   "cell_type": "code",
   "execution_count": 1,
   "metadata": {},
   "outputs": [],
   "source": [
    "import pandas as pd\n",
    "import numpy as np\n",
    "import glob\n",
    "import os\n",
    "import cv2\n",
    "import tqdm"
   ]
  },
  {
   "cell_type": "code",
   "execution_count": 2,
   "metadata": {},
   "outputs": [],
   "source": [
    "def get_data(filepath):\n",
    "    data = {}\n",
    "    for dir in glob.glob(filepath):\n",
    "        images = []\n",
    "        for file in glob.glob(dir+'/color_*.png'):\n",
    "            images.append(file)\n",
    "        data.setdefault(dir[-1],images)\n",
    "    return data"
   ]
  },
  {
   "cell_type": "code",
   "execution_count": 3,
   "metadata": {},
   "outputs": [],
   "source": [
    "dataset = os.path.abspath('dataset5/*/*')\n",
    "data = get_data(dataset)"
   ]
  },
  {
   "cell_type": "code",
   "execution_count": 4,
   "metadata": {},
   "outputs": [],
   "source": [
    "def preprocess_images(dict,height=64,width= 64):\n",
    "    images = []\n",
    "    labels = []\n",
    "    \n",
    "    for k,v in dict.items():\n",
    "        for file in v:\n",
    "            img = cv2.imread(file)\n",
    "            img = cv2.cvtColor(img,cv2.COLOR_BGR2RGB)\n",
    "            img = cv2.resize(img,(height,width))\n",
    "            img = img/255.00\n",
    "            images.append(img)\n",
    "            labels.append(k)\n",
    "            \n",
    "    return (np.array(images),np.array(labels).reshape(-1,1))"
   ]
  },
  {
   "cell_type": "code",
   "execution_count": 5,
   "metadata": {},
   "outputs": [],
   "source": [
    "images, labels = preprocess_images(data)"
   ]
  },
  {
   "cell_type": "code",
   "execution_count": 6,
   "metadata": {},
   "outputs": [],
   "source": [
    "from sklearn.preprocessing import LabelBinarizer\n",
    "\n",
    "lbl_bin = LabelBinarizer()\n",
    "labels = lbl_bin.fit_transform(labels)"
   ]
  },
  {
   "cell_type": "code",
   "execution_count": 7,
   "metadata": {},
   "outputs": [],
   "source": [
    "from sklearn.model_selection import train_test_split\n",
    "\n",
    "X_train , X_test, Y_train, Y_test = train_test_split(images,labels,test_size=0.2, random_state=1)\n",
    "X_train, X_val, Y_train, Y_val = train_test_split(X_train,Y_train,test_size=0.25,random_state=1)"
   ]
  },
  {
   "cell_type": "code",
   "execution_count": 8,
   "metadata": {},
   "outputs": [
    {
     "name": "stderr",
     "output_type": "stream",
     "text": [
      "Using TensorFlow backend.\n",
      "WARNING: Logging before flag parsing goes to stderr.\n",
      "W0816 16:55:04.361936 11836 deprecation_wrapper.py:119] From C:\\Users\\hp\\.conda\\envs\\tensor_test\\lib\\site-packages\\keras\\backend\\tensorflow_backend.py:74: The name tf.get_default_graph is deprecated. Please use tf.compat.v1.get_default_graph instead.\n",
      "\n",
      "W0816 16:55:04.388303 11836 deprecation_wrapper.py:119] From C:\\Users\\hp\\.conda\\envs\\tensor_test\\lib\\site-packages\\keras\\backend\\tensorflow_backend.py:517: The name tf.placeholder is deprecated. Please use tf.compat.v1.placeholder instead.\n",
      "\n",
      "W0816 16:55:04.391295 11836 deprecation_wrapper.py:119] From C:\\Users\\hp\\.conda\\envs\\tensor_test\\lib\\site-packages\\keras\\backend\\tensorflow_backend.py:4138: The name tf.random_uniform is deprecated. Please use tf.random.uniform instead.\n",
      "\n",
      "W0816 16:55:04.410244 11836 deprecation_wrapper.py:119] From C:\\Users\\hp\\.conda\\envs\\tensor_test\\lib\\site-packages\\keras\\backend\\tensorflow_backend.py:3976: The name tf.nn.max_pool is deprecated. Please use tf.nn.max_pool2d instead.\n",
      "\n",
      "W0816 16:55:04.425236 11836 deprecation_wrapper.py:119] From C:\\Users\\hp\\.conda\\envs\\tensor_test\\lib\\site-packages\\keras\\backend\\tensorflow_backend.py:174: The name tf.get_default_session is deprecated. Please use tf.compat.v1.get_default_session instead.\n",
      "\n",
      "W0816 16:55:04.429196 11836 deprecation_wrapper.py:119] From C:\\Users\\hp\\.conda\\envs\\tensor_test\\lib\\site-packages\\keras\\backend\\tensorflow_backend.py:181: The name tf.ConfigProto is deprecated. Please use tf.compat.v1.ConfigProto instead.\n",
      "\n",
      "W0816 16:55:14.408276 11836 deprecation_wrapper.py:119] From C:\\Users\\hp\\.conda\\envs\\tensor_test\\lib\\site-packages\\keras\\backend\\tensorflow_backend.py:1834: The name tf.nn.fused_batch_norm is deprecated. Please use tf.compat.v1.nn.fused_batch_norm instead.\n",
      "\n",
      "W0816 16:55:14.481471 11836 deprecation.py:506] From C:\\Users\\hp\\.conda\\envs\\tensor_test\\lib\\site-packages\\keras\\backend\\tensorflow_backend.py:3445: calling dropout (from tensorflow.python.ops.nn_ops) with keep_prob is deprecated and will be removed in a future version.\n",
      "Instructions for updating:\n",
      "Please use `rate` instead of `keep_prob`. Rate should be set to `rate = 1 - keep_prob`.\n",
      "W0816 16:55:14.668339 11836 deprecation_wrapper.py:119] From C:\\Users\\hp\\.conda\\envs\\tensor_test\\lib\\site-packages\\keras\\optimizers.py:790: The name tf.train.Optimizer is deprecated. Please use tf.compat.v1.train.Optimizer instead.\n",
      "\n"
     ]
    },
    {
     "name": "stdout",
     "output_type": "stream",
     "text": [
      "_________________________________________________________________\n",
      "Layer (type)                 Output Shape              Param #   \n",
      "=================================================================\n",
      "conv2d_1 (Conv2D)            (None, 62, 62, 32)        896       \n",
      "_________________________________________________________________\n",
      "max_pooling2d_1 (MaxPooling2 (None, 31, 31, 32)        0         \n",
      "_________________________________________________________________\n",
      "batch_normalization_1 (Batch (None, 31, 31, 32)        128       \n",
      "_________________________________________________________________\n",
      "dropout_1 (Dropout)          (None, 31, 31, 32)        0         \n",
      "_________________________________________________________________\n",
      "conv2d_2 (Conv2D)            (None, 29, 29, 32)        9248      \n",
      "_________________________________________________________________\n",
      "max_pooling2d_2 (MaxPooling2 (None, 14, 14, 32)        0         \n",
      "_________________________________________________________________\n",
      "batch_normalization_2 (Batch (None, 14, 14, 32)        128       \n",
      "_________________________________________________________________\n",
      "dropout_2 (Dropout)          (None, 14, 14, 32)        0         \n",
      "_________________________________________________________________\n",
      "flatten_1 (Flatten)          (None, 6272)              0         \n",
      "_________________________________________________________________\n",
      "dense_1 (Dense)              (None, 256)               1605888   \n",
      "_________________________________________________________________\n",
      "batch_normalization_3 (Batch (None, 256)               1024      \n",
      "_________________________________________________________________\n",
      "dropout_3 (Dropout)          (None, 256)               0         \n",
      "_________________________________________________________________\n",
      "dense_2 (Dense)              (None, 24)                6168      \n",
      "=================================================================\n",
      "Total params: 1,623,480\n",
      "Trainable params: 1,622,840\n",
      "Non-trainable params: 640\n",
      "_________________________________________________________________\n"
     ]
    }
   ],
   "source": [
    "from keras.layers import Convolution2D, MaxPooling2D, GlobalAveragePooling2D, BatchNormalization\n",
    "from keras.layers import Dropout, Flatten, Dense\n",
    "from keras.models import Sequential\n",
    "\n",
    "classifier = Sequential()\n",
    "classifier.add(Convolution2D(32, (3, 3), input_shape = (64, 64, 3), activation = 'relu'))\n",
    "classifier.add(MaxPooling2D(pool_size = (2, 2), data_format=\"channels_last\"))\n",
    "classifier.add(BatchNormalization(axis = -1))\n",
    "classifier.add(Dropout(0.2))\n",
    "classifier.add(Convolution2D(32, (3, 3), activation = 'relu'))\n",
    "classifier.add(MaxPooling2D(pool_size = (2, 2), data_format=\"channels_last\"))\n",
    "classifier.add(BatchNormalization(axis = -1))\n",
    "classifier.add(Dropout(0.2))\n",
    "classifier.add(Flatten())\n",
    "classifier.add(Dense(activation = 'relu', units=256))\n",
    "classifier.add(BatchNormalization(axis = -1))\n",
    "classifier.add(Dropout(0.2))\n",
    "classifier.add(Dense(activation = 'sigmoid', units=24))\n",
    "classifier.compile(optimizer = 'adam', loss = 'categorical_crossentropy', metrics = ['accuracy'])\n",
    "\n",
    "classifier.summary()"
   ]
  },
  {
   "cell_type": "code",
   "execution_count": 9,
   "metadata": {},
   "outputs": [],
   "source": [
    "classifier.compile(optimizer='rmsprop',loss='categorical_crossentropy',metrics=['accuracy'])"
   ]
  },
  {
   "cell_type": "code",
   "execution_count": 10,
   "metadata": {},
   "outputs": [],
   "source": [
    "from keras.callbacks import ModelCheckpoint\n",
    "from keras.callbacks import EarlyStopping\n",
    "epochs = 10\n",
    "models_dir = 'saved_models'\n",
    "\n",
    "if not os.path.exists(models_dir):\n",
    "    os.makedirs(models_dir)\n",
    "    \n",
    "checkpointer = ModelCheckpoint(filepath=f'{models_dir}/best_weights.hdf5',verbose=1,save_best_only=True)\n",
    "es_callback = EarlyStopping(monitor='val_loss')\n",
    "\n"
   ]
  },
  {
   "cell_type": "code",
   "execution_count": 11,
   "metadata": {},
   "outputs": [
    {
     "name": "stderr",
     "output_type": "stream",
     "text": [
      "W0816 16:55:15.029028 11836 deprecation.py:323] From C:\\Users\\hp\\.conda\\envs\\tensor_test\\lib\\site-packages\\tensorflow\\python\\ops\\math_grad.py:1250: add_dispatch_support.<locals>.wrapper (from tensorflow.python.ops.array_ops) is deprecated and will be removed in a future version.\n",
      "Instructions for updating:\n",
      "Use tf.where in 2.0, which has the same broadcast rule as np.where\n"
     ]
    },
    {
     "name": "stdout",
     "output_type": "stream",
     "text": [
      "Train on 7527 samples, validate on 2510 samples\n",
      "Epoch 1/10\n",
      "7527/7527 [==============================] - ETA: 8:03 - loss: 3.5903 - acc: 0.0000e+0 - ETA: 4:06 - loss: 3.1985 - acc: 0.1250    - ETA: 2:07 - loss: 2.9235 - acc: 0.265 - ETA: 1:44 - loss: 2.8504 - acc: 0.300 - ETA: 1:16 - loss: 2.7431 - acc: 0.361 - ETA: 1:08 - loss: 2.7073 - acc: 0.382 - ETA: 1:01 - loss: 2.6899 - acc: 0.402 - ETA: 51s - loss: 2.6479 - acc: 0.420 - ETA: 48s - loss: 2.6263 - acc: 0.42 - ETA: 45s - loss: 2.6054 - acc: 0.43 - ETA: 40s - loss: 2.5744 - acc: 0.46 - ETA: 38s - loss: 2.5603 - acc: 0.47 - ETA: 36s - loss: 2.5484 - acc: 0.48 - ETA: 33s - loss: 2.5290 - acc: 0.49 - ETA: 32s - loss: 2.5238 - acc: 0.49 - ETA: 29s - loss: 2.5088 - acc: 0.50 - ETA: 29s - loss: 2.5032 - acc: 0.50 - ETA: 28s - loss: 2.4951 - acc: 0.51 - ETA: 27s - loss: 2.4869 - acc: 0.52 - ETA: 26s - loss: 2.4807 - acc: 0.53 - ETA: 25s - loss: 2.4767 - acc: 0.53 - ETA: 25s - loss: 2.4688 - acc: 0.54 - ETA: 23s - loss: 2.4550 - acc: 0.55 - ETA: 22s - loss: 2.4429 - acc: 0.55 - ETA: 22s - loss: 2.4363 - acc: 0.56 - ETA: 21s - loss: 2.4270 - acc: 0.56 - ETA: 20s - loss: 2.4124 - acc: 0.56 - ETA: 19s - loss: 2.4002 - acc: 0.57 - ETA: 19s - loss: 2.3861 - acc: 0.57 - ETA: 18s - loss: 2.3801 - acc: 0.57 - ETA: 18s - loss: 2.3737 - acc: 0.57 - ETA: 18s - loss: 2.3672 - acc: 0.57 - ETA: 17s - loss: 2.3611 - acc: 0.57 - ETA: 17s - loss: 2.3482 - acc: 0.57 - ETA: 17s - loss: 2.3420 - acc: 0.58 - ETA: 16s - loss: 2.3307 - acc: 0.58 - ETA: 16s - loss: 2.3232 - acc: 0.58 - ETA: 15s - loss: 2.3145 - acc: 0.58 - ETA: 15s - loss: 2.3084 - acc: 0.58 - ETA: 15s - loss: 2.2978 - acc: 0.58 - ETA: 15s - loss: 2.2938 - acc: 0.58 - ETA: 14s - loss: 2.2822 - acc: 0.58 - ETA: 14s - loss: 2.2770 - acc: 0.58 - ETA: 14s - loss: 2.2723 - acc: 0.58 - ETA: 14s - loss: 2.2692 - acc: 0.58 - ETA: 13s - loss: 2.2633 - acc: 0.57 - ETA: 13s - loss: 2.2591 - acc: 0.57 - ETA: 13s - loss: 2.2461 - acc: 0.58 - ETA: 13s - loss: 2.2393 - acc: 0.58 - ETA: 13s - loss: 2.2241 - acc: 0.58 - ETA: 12s - loss: 2.2182 - acc: 0.58 - ETA: 12s - loss: 2.2092 - acc: 0.58 - ETA: 12s - loss: 2.2007 - acc: 0.59 - ETA: 12s - loss: 2.1882 - acc: 0.59 - ETA: 12s - loss: 2.1825 - acc: 0.59 - ETA: 11s - loss: 2.1700 - acc: 0.59 - ETA: 11s - loss: 2.1621 - acc: 0.59 - ETA: 11s - loss: 2.1483 - acc: 0.60 - ETA: 11s - loss: 2.1434 - acc: 0.60 - ETA: 11s - loss: 2.1343 - acc: 0.60 - ETA: 11s - loss: 2.1227 - acc: 0.60 - ETA: 10s - loss: 2.1146 - acc: 0.60 - ETA: 10s - loss: 2.1073 - acc: 0.60 - ETA: 10s - loss: 2.0935 - acc: 0.60 - ETA: 10s - loss: 2.0856 - acc: 0.61 - ETA: 10s - loss: 2.0721 - acc: 0.61 - ETA: 10s - loss: 2.0656 - acc: 0.61 - ETA: 10s - loss: 2.0579 - acc: 0.61 - ETA: 10s - loss: 2.0519 - acc: 0.61 - ETA: 9s - loss: 2.0435 - acc: 0.6194 - ETA: 9s - loss: 2.0279 - acc: 0.622 - ETA: 9s - loss: 2.0211 - acc: 0.623 - ETA: 9s - loss: 2.0087 - acc: 0.624 - ETA: 9s - loss: 1.9958 - acc: 0.626 - ETA: 9s - loss: 1.9811 - acc: 0.630 - ETA: 8s - loss: 1.9734 - acc: 0.632 - ETA: 8s - loss: 1.9667 - acc: 0.634 - ETA: 8s - loss: 1.9520 - acc: 0.636 - ETA: 8s - loss: 1.9488 - acc: 0.637 - ETA: 8s - loss: 1.9441 - acc: 0.637 - ETA: 8s - loss: 1.9316 - acc: 0.640 - ETA: 8s - loss: 1.9244 - acc: 0.641 - ETA: 8s - loss: 1.9184 - acc: 0.642 - ETA: 7s - loss: 1.9074 - acc: 0.643 - ETA: 7s - loss: 1.9014 - acc: 0.644 - ETA: 7s - loss: 1.8892 - acc: 0.645 - ETA: 7s - loss: 1.8822 - acc: 0.647 - ETA: 7s - loss: 1.8760 - acc: 0.648 - ETA: 7s - loss: 1.8696 - acc: 0.649 - ETA: 7s - loss: 1.8638 - acc: 0.649 - ETA: 7s - loss: 1.8572 - acc: 0.651 - ETA: 7s - loss: 1.8453 - acc: 0.655 - ETA: 6s - loss: 1.8319 - acc: 0.658 - ETA: 6s - loss: 1.8251 - acc: 0.660 - ETA: 6s - loss: 1.8192 - acc: 0.661 - ETA: 6s - loss: 1.8132 - acc: 0.663 - ETA: 6s - loss: 1.7999 - acc: 0.665 - ETA: 6s - loss: 1.7952 - acc: 0.665 - ETA: 6s - loss: 1.7900 - acc: 0.666 - ETA: 6s - loss: 1.7781 - acc: 0.668 - ETA: 6s - loss: 1.7671 - acc: 0.671 - ETA: 6s - loss: 1.7557 - acc: 0.673 - ETA: 5s - loss: 1.7449 - acc: 0.675 - ETA: 5s - loss: 1.7411 - acc: 0.676 - ETA: 5s - loss: 1.7352 - acc: 0.677 - ETA: 5s - loss: 1.7299 - acc: 0.678 - ETA: 5s - loss: 1.7239 - acc: 0.679 - ETA: 5s - loss: 1.7194 - acc: 0.680 - ETA: 5s - loss: 1.7124 - acc: 0.682 - ETA: 5s - loss: 1.7067 - acc: 0.682 - ETA: 5s - loss: 1.6963 - acc: 0.685 - ETA: 5s - loss: 1.6848 - acc: 0.687 - ETA: 4s - loss: 1.6754 - acc: 0.688 - ETA: 4s - loss: 1.6636 - acc: 0.690 - ETA: 4s - loss: 1.6584 - acc: 0.691 - ETA: 4s - loss: 1.6475 - acc: 0.693 - ETA: 4s - loss: 1.6374 - acc: 0.695 - ETA: 4s - loss: 1.6271 - acc: 0.697 - ETA: 4s - loss: 1.6235 - acc: 0.697 - ETA: 4s - loss: 1.6200 - acc: 0.698 - ETA: 4s - loss: 1.6096 - acc: 0.699 - ETA: 3s - loss: 1.6003 - acc: 0.701 - ETA: 3s - loss: 1.5910 - acc: 0.703 - ETA: 3s - loss: 1.5863 - acc: 0.703 - ETA: 3s - loss: 1.5820 - acc: 0.704 - ETA: 3s - loss: 1.5741 - acc: 0.705 - ETA: 3s - loss: 1.5700 - acc: 0.706 - ETA: 3s - loss: 1.5663 - acc: 0.706 - ETA: 3s - loss: 1.5581 - acc: 0.707 - ETA: 3s - loss: 1.5484 - acc: 0.709 - ETA: 3s - loss: 1.5440 - acc: 0.710 - ETA: 2s - loss: 1.5347 - acc: 0.711 - ETA: 2s - loss: 1.5265 - acc: 0.713 - ETA: 2s - loss: 1.5225 - acc: 0.714 - ETA: 2s - loss: 1.5192 - acc: 0.714 - ETA: 2s - loss: 1.5147 - acc: 0.715 - ETA: 2s - loss: 1.5104 - acc: 0.716 - ETA: 2s - loss: 1.5035 - acc: 0.717 - ETA: 2s - loss: 1.4952 - acc: 0.718 - ETA: 2s - loss: 1.4868 - acc: 0.719 - ETA: 2s - loss: 1.4832 - acc: 0.720 - ETA: 2s - loss: 1.4755 - acc: 0.721 - ETA: 1s - loss: 1.4726 - acc: 0.721 - ETA: 1s - loss: 1.4689 - acc: 0.722 - ETA: 1s - loss: 1.4648 - acc: 0.723 - ETA: 1s - loss: 1.4563 - acc: 0.724 - ETA: 1s - loss: 1.4509 - acc: 0.725 - ETA: 1s - loss: 1.4455 - acc: 0.727 - ETA: 1s - loss: 1.4409 - acc: 0.728 - ETA: 1s - loss: 1.4331 - acc: 0.730 - ETA: 1s - loss: 1.4292 - acc: 0.730 - ETA: 1s - loss: 1.4210 - acc: 0.731 - ETA: 1s - loss: 1.4138 - acc: 0.733 - ETA: 0s - loss: 1.4072 - acc: 0.734 - ETA: 0s - loss: 1.4040 - acc: 0.734 - ETA: 0s - loss: 1.3968 - acc: 0.735 - ETA: 0s - loss: 1.3930 - acc: 0.736 - ETA: 0s - loss: 1.3852 - acc: 0.738 - ETA: 0s - loss: 1.3808 - acc: 0.739 - ETA: 0s - loss: 1.3748 - acc: 0.740 - ETA: 0s - loss: 1.3709 - acc: 0.740 - ETA: 0s - loss: 1.3647 - acc: 0.741 - ETA: 0s - loss: 1.3567 - acc: 0.743 - 15s 2ms/step - loss: 1.3529 - acc: 0.7441 - val_loss: 0.5788 - val_acc: 0.8534\n",
      "\n",
      "Epoch 00001: val_loss improved from inf to 0.57885, saving model to saved_models/best_weights.hdf5\n",
      "Epoch 2/10\n"
     ]
    },
    {
     "name": "stdout",
     "output_type": "stream",
     "text": [
      "7527/7527 [==============================] - ETA: 12s - loss: 0.6080 - acc: 0.87 - ETA: 10s - loss: 0.5528 - acc: 0.89 - ETA: 11s - loss: 0.6120 - acc: 0.87 - ETA: 11s - loss: 0.5784 - acc: 0.88 - ETA: 11s - loss: 0.5546 - acc: 0.88 - ETA: 10s - loss: 0.5492 - acc: 0.88 - ETA: 10s - loss: 0.5378 - acc: 0.88 - ETA: 10s - loss: 0.5267 - acc: 0.89 - ETA: 10s - loss: 0.5170 - acc: 0.89 - ETA: 10s - loss: 0.5087 - acc: 0.89 - ETA: 10s - loss: 0.5004 - acc: 0.89 - ETA: 10s - loss: 0.4898 - acc: 0.90 - ETA: 10s - loss: 0.4799 - acc: 0.90 - ETA: 10s - loss: 0.4856 - acc: 0.90 - ETA: 10s - loss: 0.4788 - acc: 0.90 - ETA: 10s - loss: 0.4716 - acc: 0.90 - ETA: 10s - loss: 0.4775 - acc: 0.90 - ETA: 10s - loss: 0.4919 - acc: 0.90 - ETA: 10s - loss: 0.4929 - acc: 0.90 - ETA: 10s - loss: 0.4811 - acc: 0.90 - ETA: 10s - loss: 0.4788 - acc: 0.90 - ETA: 10s - loss: 0.4764 - acc: 0.91 - ETA: 9s - loss: 0.4681 - acc: 0.9110 - ETA: 9s - loss: 0.4652 - acc: 0.910 - ETA: 9s - loss: 0.4645 - acc: 0.909 - ETA: 9s - loss: 0.4716 - acc: 0.912 - ETA: 9s - loss: 0.4748 - acc: 0.915 - ETA: 9s - loss: 0.4728 - acc: 0.914 - ETA: 9s - loss: 0.4664 - acc: 0.916 - ETA: 9s - loss: 0.4615 - acc: 0.916 - ETA: 9s - loss: 0.4572 - acc: 0.917 - ETA: 9s - loss: 0.4511 - acc: 0.917 - ETA: 9s - loss: 0.4487 - acc: 0.916 - ETA: 8s - loss: 0.4430 - acc: 0.916 - ETA: 8s - loss: 0.4481 - acc: 0.914 - ETA: 8s - loss: 0.4429 - acc: 0.914 - ETA: 8s - loss: 0.4415 - acc: 0.915 - ETA: 8s - loss: 0.4358 - acc: 0.916 - ETA: 8s - loss: 0.4341 - acc: 0.916 - ETA: 8s - loss: 0.4355 - acc: 0.917 - ETA: 8s - loss: 0.4337 - acc: 0.917 - ETA: 8s - loss: 0.4354 - acc: 0.918 - ETA: 8s - loss: 0.4356 - acc: 0.918 - ETA: 8s - loss: 0.4365 - acc: 0.918 - ETA: 8s - loss: 0.4361 - acc: 0.918 - ETA: 8s - loss: 0.4351 - acc: 0.917 - ETA: 8s - loss: 0.4313 - acc: 0.918 - ETA: 7s - loss: 0.4283 - acc: 0.918 - ETA: 7s - loss: 0.4315 - acc: 0.917 - ETA: 7s - loss: 0.4303 - acc: 0.917 - ETA: 7s - loss: 0.4299 - acc: 0.918 - ETA: 7s - loss: 0.4293 - acc: 0.919 - ETA: 7s - loss: 0.4260 - acc: 0.920 - ETA: 7s - loss: 0.4261 - acc: 0.919 - ETA: 7s - loss: 0.4232 - acc: 0.920 - ETA: 7s - loss: 0.4224 - acc: 0.920 - ETA: 7s - loss: 0.4221 - acc: 0.920 - ETA: 7s - loss: 0.4219 - acc: 0.919 - ETA: 7s - loss: 0.4197 - acc: 0.920 - ETA: 7s - loss: 0.4188 - acc: 0.920 - ETA: 7s - loss: 0.4188 - acc: 0.920 - ETA: 7s - loss: 0.4179 - acc: 0.920 - ETA: 7s - loss: 0.4159 - acc: 0.920 - ETA: 7s - loss: 0.4129 - acc: 0.920 - ETA: 6s - loss: 0.4104 - acc: 0.920 - ETA: 6s - loss: 0.4085 - acc: 0.921 - ETA: 6s - loss: 0.4087 - acc: 0.920 - ETA: 6s - loss: 0.4064 - acc: 0.920 - ETA: 6s - loss: 0.4051 - acc: 0.920 - ETA: 6s - loss: 0.4046 - acc: 0.920 - ETA: 6s - loss: 0.4029 - acc: 0.920 - ETA: 6s - loss: 0.4033 - acc: 0.920 - ETA: 6s - loss: 0.4035 - acc: 0.920 - ETA: 6s - loss: 0.4041 - acc: 0.919 - ETA: 6s - loss: 0.4021 - acc: 0.919 - ETA: 6s - loss: 0.4026 - acc: 0.919 - ETA: 6s - loss: 0.4036 - acc: 0.918 - ETA: 6s - loss: 0.4028 - acc: 0.918 - ETA: 6s - loss: 0.4021 - acc: 0.917 - ETA: 6s - loss: 0.4017 - acc: 0.918 - ETA: 5s - loss: 0.4018 - acc: 0.918 - ETA: 5s - loss: 0.3985 - acc: 0.918 - ETA: 5s - loss: 0.3962 - acc: 0.919 - ETA: 5s - loss: 0.3945 - acc: 0.920 - ETA: 5s - loss: 0.3940 - acc: 0.919 - ETA: 5s - loss: 0.3922 - acc: 0.920 - ETA: 5s - loss: 0.3932 - acc: 0.920 - ETA: 5s - loss: 0.3905 - acc: 0.920 - ETA: 5s - loss: 0.3899 - acc: 0.921 - ETA: 5s - loss: 0.3872 - acc: 0.921 - ETA: 5s - loss: 0.3868 - acc: 0.921 - ETA: 5s - loss: 0.3857 - acc: 0.921 - ETA: 5s - loss: 0.3852 - acc: 0.922 - ETA: 4s - loss: 0.3832 - acc: 0.922 - ETA: 4s - loss: 0.3823 - acc: 0.923 - ETA: 4s - loss: 0.3811 - acc: 0.923 - ETA: 4s - loss: 0.3793 - acc: 0.923 - ETA: 4s - loss: 0.3781 - acc: 0.923 - ETA: 4s - loss: 0.3762 - acc: 0.923 - ETA: 4s - loss: 0.3750 - acc: 0.924 - ETA: 4s - loss: 0.3743 - acc: 0.924 - ETA: 4s - loss: 0.3738 - acc: 0.923 - ETA: 4s - loss: 0.3731 - acc: 0.923 - ETA: 4s - loss: 0.3720 - acc: 0.924 - ETA: 4s - loss: 0.3705 - acc: 0.924 - ETA: 4s - loss: 0.3721 - acc: 0.924 - ETA: 4s - loss: 0.3696 - acc: 0.924 - ETA: 3s - loss: 0.3687 - acc: 0.924 - ETA: 3s - loss: 0.3670 - acc: 0.924 - ETA: 3s - loss: 0.3664 - acc: 0.925 - ETA: 3s - loss: 0.3663 - acc: 0.924 - ETA: 3s - loss: 0.3638 - acc: 0.925 - ETA: 3s - loss: 0.3631 - acc: 0.925 - ETA: 3s - loss: 0.3622 - acc: 0.925 - ETA: 3s - loss: 0.3605 - acc: 0.925 - ETA: 3s - loss: 0.3594 - acc: 0.925 - ETA: 3s - loss: 0.3589 - acc: 0.925 - ETA: 3s - loss: 0.3568 - acc: 0.925 - ETA: 3s - loss: 0.3554 - acc: 0.926 - ETA: 3s - loss: 0.3535 - acc: 0.926 - ETA: 2s - loss: 0.3527 - acc: 0.927 - ETA: 2s - loss: 0.3516 - acc: 0.927 - ETA: 2s - loss: 0.3494 - acc: 0.927 - ETA: 2s - loss: 0.3480 - acc: 0.928 - ETA: 2s - loss: 0.3456 - acc: 0.928 - ETA: 2s - loss: 0.3448 - acc: 0.929 - ETA: 2s - loss: 0.3447 - acc: 0.929 - ETA: 2s - loss: 0.3437 - acc: 0.929 - ETA: 2s - loss: 0.3426 - acc: 0.929 - ETA: 2s - loss: 0.3414 - acc: 0.930 - ETA: 2s - loss: 0.3390 - acc: 0.930 - ETA: 2s - loss: 0.3388 - acc: 0.931 - ETA: 1s - loss: 0.3369 - acc: 0.931 - ETA: 1s - loss: 0.3359 - acc: 0.931 - ETA: 1s - loss: 0.3347 - acc: 0.932 - ETA: 1s - loss: 0.3340 - acc: 0.932 - ETA: 1s - loss: 0.3318 - acc: 0.932 - ETA: 1s - loss: 0.3313 - acc: 0.932 - ETA: 1s - loss: 0.3293 - acc: 0.933 - ETA: 1s - loss: 0.3290 - acc: 0.933 - ETA: 1s - loss: 0.3278 - acc: 0.933 - ETA: 1s - loss: 0.3261 - acc: 0.934 - ETA: 1s - loss: 0.3252 - acc: 0.934 - ETA: 1s - loss: 0.3239 - acc: 0.934 - ETA: 1s - loss: 0.3233 - acc: 0.934 - ETA: 1s - loss: 0.3212 - acc: 0.935 - ETA: 0s - loss: 0.3198 - acc: 0.935 - ETA: 0s - loss: 0.3188 - acc: 0.935 - ETA: 0s - loss: 0.3165 - acc: 0.936 - ETA: 0s - loss: 0.3159 - acc: 0.936 - ETA: 0s - loss: 0.3140 - acc: 0.937 - ETA: 0s - loss: 0.3133 - acc: 0.937 - ETA: 0s - loss: 0.3113 - acc: 0.937 - ETA: 0s - loss: 0.3097 - acc: 0.938 - ETA: 0s - loss: 0.3085 - acc: 0.938 - ETA: 0s - loss: 0.3066 - acc: 0.938 - ETA: 0s - loss: 0.3048 - acc: 0.939 - ETA: 0s - loss: 0.3033 - acc: 0.939 - ETA: 0s - loss: 0.3020 - acc: 0.939 - 13s 2ms/step - loss: 0.3020 - acc: 0.9399 - val_loss: 0.1642 - val_acc: 0.9645\n",
      "\n",
      "Epoch 00002: val_loss improved from 0.57885 to 0.16421, saving model to saved_models/best_weights.hdf5\n",
      "Epoch 3/10\n"
     ]
    },
    {
     "name": "stdout",
     "output_type": "stream",
     "text": [
      "7527/7527 [==============================] - ETA: 13s - loss: 0.0457 - acc: 1.00 - ETA: 10s - loss: 0.1312 - acc: 0.98 - ETA: 11s - loss: 0.1341 - acc: 0.98 - ETA: 11s - loss: 0.1183 - acc: 0.98 - ETA: 11s - loss: 0.1207 - acc: 0.98 - ETA: 11s - loss: 0.1421 - acc: 0.98 - ETA: 10s - loss: 0.1304 - acc: 0.98 - ETA: 10s - loss: 0.1282 - acc: 0.98 - ETA: 10s - loss: 0.1222 - acc: 0.98 - ETA: 10s - loss: 0.1162 - acc: 0.98 - ETA: 10s - loss: 0.1075 - acc: 0.98 - ETA: 10s - loss: 0.1049 - acc: 0.98 - ETA: 10s - loss: 0.1052 - acc: 0.98 - ETA: 10s - loss: 0.1051 - acc: 0.98 - ETA: 10s - loss: 0.1010 - acc: 0.98 - ETA: 10s - loss: 0.1022 - acc: 0.98 - ETA: 9s - loss: 0.0976 - acc: 0.9888 - ETA: 9s - loss: 0.0933 - acc: 0.989 - ETA: 9s - loss: 0.0897 - acc: 0.989 - ETA: 9s - loss: 0.0884 - acc: 0.989 - ETA: 9s - loss: 0.0865 - acc: 0.988 - ETA: 9s - loss: 0.0828 - acc: 0.989 - ETA: 9s - loss: 0.0822 - acc: 0.989 - ETA: 9s - loss: 0.0791 - acc: 0.989 - ETA: 9s - loss: 0.0764 - acc: 0.990 - ETA: 9s - loss: 0.0740 - acc: 0.990 - ETA: 8s - loss: 0.0717 - acc: 0.990 - ETA: 8s - loss: 0.0706 - acc: 0.991 - ETA: 8s - loss: 0.0695 - acc: 0.991 - ETA: 8s - loss: 0.0683 - acc: 0.991 - ETA: 8s - loss: 0.0668 - acc: 0.991 - ETA: 8s - loss: 0.0659 - acc: 0.992 - ETA: 8s - loss: 0.0643 - acc: 0.992 - ETA: 8s - loss: 0.0637 - acc: 0.992 - ETA: 8s - loss: 0.0631 - acc: 0.992 - ETA: 8s - loss: 0.0617 - acc: 0.992 - ETA: 8s - loss: 0.0610 - acc: 0.992 - ETA: 8s - loss: 0.0620 - acc: 0.992 - ETA: 8s - loss: 0.0605 - acc: 0.992 - ETA: 8s - loss: 0.0600 - acc: 0.992 - ETA: 7s - loss: 0.0599 - acc: 0.992 - ETA: 7s - loss: 0.0609 - acc: 0.992 - ETA: 7s - loss: 0.0606 - acc: 0.992 - ETA: 7s - loss: 0.0609 - acc: 0.992 - ETA: 7s - loss: 0.0606 - acc: 0.992 - ETA: 7s - loss: 0.0596 - acc: 0.992 - ETA: 7s - loss: 0.0592 - acc: 0.992 - ETA: 7s - loss: 0.0587 - acc: 0.992 - ETA: 7s - loss: 0.0581 - acc: 0.993 - ETA: 7s - loss: 0.0591 - acc: 0.992 - ETA: 7s - loss: 0.0583 - acc: 0.992 - ETA: 7s - loss: 0.0578 - acc: 0.992 - ETA: 7s - loss: 0.0573 - acc: 0.992 - ETA: 7s - loss: 0.0567 - acc: 0.992 - ETA: 7s - loss: 0.0564 - acc: 0.992 - ETA: 7s - loss: 0.0558 - acc: 0.993 - ETA: 6s - loss: 0.0558 - acc: 0.992 - ETA: 6s - loss: 0.0553 - acc: 0.992 - ETA: 6s - loss: 0.0548 - acc: 0.992 - ETA: 6s - loss: 0.0543 - acc: 0.993 - ETA: 6s - loss: 0.0545 - acc: 0.992 - ETA: 6s - loss: 0.0542 - acc: 0.992 - ETA: 6s - loss: 0.0534 - acc: 0.993 - ETA: 6s - loss: 0.0542 - acc: 0.992 - ETA: 6s - loss: 0.0538 - acc: 0.992 - ETA: 6s - loss: 0.0543 - acc: 0.993 - ETA: 6s - loss: 0.0538 - acc: 0.993 - ETA: 6s - loss: 0.0530 - acc: 0.993 - ETA: 6s - loss: 0.0526 - acc: 0.993 - ETA: 6s - loss: 0.0524 - acc: 0.993 - ETA: 6s - loss: 0.0520 - acc: 0.993 - ETA: 5s - loss: 0.0515 - acc: 0.993 - ETA: 5s - loss: 0.0509 - acc: 0.993 - ETA: 5s - loss: 0.0501 - acc: 0.993 - ETA: 5s - loss: 0.0500 - acc: 0.993 - ETA: 5s - loss: 0.0497 - acc: 0.993 - ETA: 5s - loss: 0.0494 - acc: 0.993 - ETA: 5s - loss: 0.0492 - acc: 0.993 - ETA: 5s - loss: 0.0489 - acc: 0.993 - ETA: 5s - loss: 0.0486 - acc: 0.994 - ETA: 5s - loss: 0.0489 - acc: 0.993 - ETA: 5s - loss: 0.0483 - acc: 0.993 - ETA: 5s - loss: 0.0477 - acc: 0.993 - ETA: 5s - loss: 0.0471 - acc: 0.993 - ETA: 4s - loss: 0.0470 - acc: 0.993 - ETA: 4s - loss: 0.0468 - acc: 0.993 - ETA: 4s - loss: 0.0465 - acc: 0.994 - ETA: 4s - loss: 0.0462 - acc: 0.994 - ETA: 4s - loss: 0.0459 - acc: 0.994 - ETA: 4s - loss: 0.0455 - acc: 0.994 - ETA: 4s - loss: 0.0451 - acc: 0.994 - ETA: 4s - loss: 0.0446 - acc: 0.994 - ETA: 4s - loss: 0.0446 - acc: 0.994 - ETA: 4s - loss: 0.0443 - acc: 0.994 - ETA: 4s - loss: 0.0439 - acc: 0.994 - ETA: 4s - loss: 0.0436 - acc: 0.994 - ETA: 4s - loss: 0.0431 - acc: 0.994 - ETA: 4s - loss: 0.0429 - acc: 0.994 - ETA: 3s - loss: 0.0429 - acc: 0.994 - ETA: 3s - loss: 0.0427 - acc: 0.994 - ETA: 3s - loss: 0.0429 - acc: 0.994 - ETA: 3s - loss: 0.0426 - acc: 0.994 - ETA: 3s - loss: 0.0422 - acc: 0.994 - ETA: 3s - loss: 0.0420 - acc: 0.994 - ETA: 3s - loss: 0.0423 - acc: 0.994 - ETA: 3s - loss: 0.0421 - acc: 0.994 - ETA: 3s - loss: 0.0416 - acc: 0.994 - ETA: 3s - loss: 0.0414 - acc: 0.994 - ETA: 3s - loss: 0.0410 - acc: 0.994 - ETA: 3s - loss: 0.0409 - acc: 0.994 - ETA: 3s - loss: 0.0414 - acc: 0.994 - ETA: 2s - loss: 0.0425 - acc: 0.993 - ETA: 2s - loss: 0.0422 - acc: 0.994 - ETA: 2s - loss: 0.0421 - acc: 0.994 - ETA: 2s - loss: 0.0418 - acc: 0.994 - ETA: 2s - loss: 0.0415 - acc: 0.994 - ETA: 2s - loss: 0.0411 - acc: 0.994 - ETA: 2s - loss: 0.0409 - acc: 0.994 - ETA: 2s - loss: 0.0407 - acc: 0.994 - ETA: 2s - loss: 0.0404 - acc: 0.994 - ETA: 2s - loss: 0.0402 - acc: 0.994 - ETA: 2s - loss: 0.0401 - acc: 0.994 - ETA: 2s - loss: 0.0399 - acc: 0.994 - ETA: 2s - loss: 0.0398 - acc: 0.994 - ETA: 2s - loss: 0.0396 - acc: 0.994 - ETA: 2s - loss: 0.0396 - acc: 0.994 - ETA: 1s - loss: 0.0395 - acc: 0.994 - ETA: 1s - loss: 0.0393 - acc: 0.994 - ETA: 1s - loss: 0.0391 - acc: 0.994 - ETA: 1s - loss: 0.0390 - acc: 0.994 - ETA: 1s - loss: 0.0389 - acc: 0.994 - ETA: 1s - loss: 0.0387 - acc: 0.994 - ETA: 1s - loss: 0.0385 - acc: 0.994 - ETA: 1s - loss: 0.0387 - acc: 0.994 - ETA: 1s - loss: 0.0385 - acc: 0.994 - ETA: 1s - loss: 0.0383 - acc: 0.994 - ETA: 1s - loss: 0.0383 - acc: 0.994 - ETA: 1s - loss: 0.0381 - acc: 0.994 - ETA: 1s - loss: 0.0380 - acc: 0.994 - ETA: 1s - loss: 0.0378 - acc: 0.994 - ETA: 1s - loss: 0.0377 - acc: 0.994 - ETA: 1s - loss: 0.0379 - acc: 0.994 - ETA: 1s - loss: 0.0377 - acc: 0.994 - ETA: 1s - loss: 0.0376 - acc: 0.994 - ETA: 1s - loss: 0.0374 - acc: 0.994 - ETA: 1s - loss: 0.0373 - acc: 0.994 - ETA: 1s - loss: 0.0371 - acc: 0.994 - ETA: 0s - loss: 0.0370 - acc: 0.994 - ETA: 0s - loss: 0.0368 - acc: 0.994 - ETA: 0s - loss: 0.0368 - acc: 0.994 - ETA: 0s - loss: 0.0367 - acc: 0.994 - ETA: 0s - loss: 0.0366 - acc: 0.994 - ETA: 0s - loss: 0.0365 - acc: 0.994 - ETA: 0s - loss: 0.0367 - acc: 0.994 - ETA: 0s - loss: 0.0366 - acc: 0.994 - ETA: 0s - loss: 0.0364 - acc: 0.994 - ETA: 0s - loss: 0.0363 - acc: 0.994 - ETA: 0s - loss: 0.0362 - acc: 0.994 - ETA: 0s - loss: 0.0361 - acc: 0.994 - ETA: 0s - loss: 0.0359 - acc: 0.994 - ETA: 0s - loss: 0.0358 - acc: 0.994 - ETA: 0s - loss: 0.0357 - acc: 0.994 - ETA: 0s - loss: 0.0356 - acc: 0.994 - ETA: 0s - loss: 0.0355 - acc: 0.994 - ETA: 0s - loss: 0.0354 - acc: 0.994 - ETA: 0s - loss: 0.0352 - acc: 0.994 - ETA: 0s - loss: 0.0351 - acc: 0.994 - 14s 2ms/step - loss: 0.0352 - acc: 0.9950 - val_loss: 0.2197 - val_acc: 0.9386\n",
      "\n",
      "Epoch 00003: val_loss did not improve from 0.16421\n"
     ]
    }
   ],
   "source": [
    "history = classifier.fit(X_train,Y_train, validation_data=(X_val,Y_val),callbacks=[checkpointer,es_callback],epochs=epochs,verbose=1)"
   ]
  },
  {
   "cell_type": "code",
   "execution_count": 12,
   "metadata": {},
   "outputs": [
    {
     "data": {
      "text/plain": [
       "{'val_loss': [0.578847622301474, 0.1642121129064446, 0.2196735077882668],\n",
       " 'val_acc': [0.8533864542782544, 0.9645418326693227, 0.9386454183741869],\n",
       " 'loss': [1.3528858080191553, 0.3020210334650308, 0.03522160464792086],\n",
       " 'acc': [0.7441211638102829, 0.9399495150790488, 0.9949515079048757]}"
      ]
     },
     "execution_count": 12,
     "metadata": {},
     "output_type": "execute_result"
    }
   ],
   "source": [
    "history.history"
   ]
  },
  {
   "cell_type": "code",
   "execution_count": 13,
   "metadata": {},
   "outputs": [],
   "source": [
    "classifier.load_weights(os.path.join(models_dir,'best_weights.hdf5'))"
   ]
  },
  {
   "cell_type": "code",
   "execution_count": 14,
   "metadata": {},
   "outputs": [
    {
     "name": "stdout",
     "output_type": "stream",
     "text": [
      "2510/2510 [==============================] - ETA: 2: - ETA: 34s - ETA: 19 - ETA: 13 - ETA: 10 - ETA: 7 - ETA:  - ETA:  - ETA:  - ETA:  - ETA:  - ETA:  - ETA:  - ETA:  - ETA:  - ETA:  - ETA:  - ETA:  - ETA:  - ETA:  - ETA:  - ETA:  - ETA:  - ETA:  - ETA:  - ETA:  - 3s 1ms/step\n"
     ]
    },
    {
     "data": {
      "text/plain": [
       "[0.13988376530518096, 0.9685258962718614]"
      ]
     },
     "execution_count": 14,
     "metadata": {},
     "output_type": "execute_result"
    }
   ],
   "source": [
    "classifier.evaluate(X_test,Y_test)"
   ]
  },
  {
   "cell_type": "code",
   "execution_count": 37,
   "metadata": {},
   "outputs": [
    {
     "name": "stdout",
     "output_type": "stream",
     "text": [
      "opencv_frame_0.png written!\n",
      "opencv_frame_1.png written!\n",
      "opencv_frame_2.png written!\n",
      "Escape hit, closing...\n"
     ]
    }
   ],
   "source": [
    "cam = cv2.VideoCapture(0)\n",
    "\n",
    "cv2.namedWindow(\"test\")\n",
    "\n",
    "img_counter = 0\n",
    "\n",
    "while True:\n",
    "    ret, frame = cam.read()\n",
    "    cv2.imshow(\"test\", frame)\n",
    "    if not ret:\n",
    "        break\n",
    "    k = cv2.waitKey(1)\n",
    "\n",
    "    if k%256 == 27:\n",
    "        # ESC pressed\n",
    "        print(\"Escape hit, closing...\")\n",
    "        break\n",
    "    elif k%256 == 32:\n",
    "        # SPACE pressed\n",
    "        img_name = \"opencv_frame_{}.png\".format(img_counter)\n",
    "        cv2.imwrite(img_name, frame)\n",
    "        print(\"{} written!\".format(img_name))\n",
    "        img_counter += 1\n",
    "\n",
    "cam.release()\n",
    "\n",
    "cv2.destroyAllWindows()"
   ]
  },
  {
   "cell_type": "code",
   "execution_count": 50,
   "metadata": {},
   "outputs": [],
   "source": [
    "img_test = cv2.imread('color_17_0015.png')\n",
    "img_test = cv2.cvtColor(img_test,cv2.COLOR_BGR2RGB)\n",
    "img_test = cv2.resize(img_test,(64,64))\n",
    "img_test = img_test/255.00"
   ]
  },
  {
   "cell_type": "code",
   "execution_count": 51,
   "metadata": {},
   "outputs": [],
   "source": [
    "img_test_shape = img_test.reshape(1,64,64,3)"
   ]
  },
  {
   "cell_type": "code",
   "execution_count": 52,
   "metadata": {},
   "outputs": [
    {
     "data": {
      "text/plain": [
       "Text(0.5, 1.0, \"pred: ['r']\")"
      ]
     },
     "execution_count": 52,
     "metadata": {},
     "output_type": "execute_result"
    },
    {
     "data": {
      "image/png": "[encoded data removed]",
      "text/plain": [
       "<Figure size 432x288 with 1 Axes>"
      ]
     },
     "metadata": {
      "needs_background": "light"
     },
     "output_type": "display_data"
    }
   ],
   "source": [
    "import matplotlib.pyplot as plt\n",
    "\n",
    "custom_preds = classifier.predict(img_test_shape)\n",
    "plt.imshow(img_test)\n",
    "plt.title('pred: {}'.format(lbl_bin.classes_[np.argmax(custom_preds, axis = -1)]))"
   ]
  },
  {
   "cell_type": "code",
   "execution_count": null,
   "metadata": {},
   "outputs": [],
   "source": []
  }
 ],
 "metadata": {
  "kernelspec": {
   "display_name": "Python [conda env:.conda-tensor_test] *",
   "language": "python",
   "name": "conda-env-.conda-tensor_test-py"
  },
  "language_info": {
   "codemirror_mode": {
    "name": "ipython",
    "version": 3
   },
   "file_extension": ".py",
   "mimetype": "text/x-python",
   "name": "python",
   "nbconvert_exporter": "python",
   "pygments_lexer": "ipython3",
   "version": "3.6.8"
  }
 },
 "nbformat": 4,
 "nbformat_minor": 2
}
